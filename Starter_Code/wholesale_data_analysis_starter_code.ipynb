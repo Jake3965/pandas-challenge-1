{
 "cells": [
  {
   "cell_type": "markdown",
   "id": "dc0318d6",
   "metadata": {},
   "source": [
    "## Part 1: Explore the Data\n",
    "\n",
    "Import the data and use Pandas to learn more about the dataset."
   ]
  },
  {
   "cell_type": "code",
   "execution_count": 205,
   "id": "e076f57f",
   "metadata": {},
   "outputs": [
    {
     "data": {
      "text/html": [
       "<div>\n",
       "<style scoped>\n",
       "    .dataframe tbody tr th:only-of-type {\n",
       "        vertical-align: middle;\n",
       "    }\n",
       "\n",
       "    .dataframe tbody tr th {\n",
       "        vertical-align: top;\n",
       "    }\n",
       "\n",
       "    .dataframe thead th {\n",
       "        text-align: right;\n",
       "    }\n",
       "</style>\n",
       "<table border=\"1\" class=\"dataframe\">\n",
       "  <thead>\n",
       "    <tr style=\"text-align: right;\">\n",
       "      <th></th>\n",
       "      <th>first</th>\n",
       "      <th>last</th>\n",
       "      <th>job</th>\n",
       "      <th>phone</th>\n",
       "      <th>email</th>\n",
       "      <th>client_id</th>\n",
       "      <th>order_id</th>\n",
       "      <th>order_date</th>\n",
       "      <th>order_week</th>\n",
       "      <th>order_year</th>\n",
       "      <th>item_id</th>\n",
       "      <th>category</th>\n",
       "      <th>subcategory</th>\n",
       "      <th>unit_price</th>\n",
       "      <th>unit_cost</th>\n",
       "      <th>unit_weight</th>\n",
       "      <th>qty</th>\n",
       "      <th>line_number</th>\n",
       "    </tr>\n",
       "  </thead>\n",
       "  <tbody>\n",
       "    <tr>\n",
       "      <th>0</th>\n",
       "      <td>Donald</td>\n",
       "      <td>Harding</td>\n",
       "      <td>Immunologist</td>\n",
       "      <td>793-904-7725x39308</td>\n",
       "      <td>harding.donald.7185@sullivan.com</td>\n",
       "      <td>58515</td>\n",
       "      <td>8953482</td>\n",
       "      <td>2023-04-28</td>\n",
       "      <td>17</td>\n",
       "      <td>2023</td>\n",
       "      <td>EUD29711-63-6U</td>\n",
       "      <td>decor</td>\n",
       "      <td>wall art</td>\n",
       "      <td>1096.80</td>\n",
       "      <td>762.71</td>\n",
       "      <td>7.50</td>\n",
       "      <td>105</td>\n",
       "      <td>1</td>\n",
       "    </tr>\n",
       "    <tr>\n",
       "      <th>1</th>\n",
       "      <td>Tiffany</td>\n",
       "      <td>Myers</td>\n",
       "      <td>Music therapist</td>\n",
       "      <td>201.442.4543x942</td>\n",
       "      <td>myers.t.6537@ferguson-johnson.net</td>\n",
       "      <td>37609</td>\n",
       "      <td>8069089</td>\n",
       "      <td>2023-05-19</td>\n",
       "      <td>20</td>\n",
       "      <td>2023</td>\n",
       "      <td>XDA18116-89-4A</td>\n",
       "      <td>consumables</td>\n",
       "      <td>pens</td>\n",
       "      <td>24.95</td>\n",
       "      <td>15.09</td>\n",
       "      <td>1.49</td>\n",
       "      <td>21</td>\n",
       "      <td>0</td>\n",
       "    </tr>\n",
       "    <tr>\n",
       "      <th>2</th>\n",
       "      <td>Shannon</td>\n",
       "      <td>Watson</td>\n",
       "      <td>Immunologist</td>\n",
       "      <td>687.737.9424x8503</td>\n",
       "      <td>swatson8146@payne.net</td>\n",
       "      <td>57113</td>\n",
       "      <td>1902144</td>\n",
       "      <td>2023-01-29</td>\n",
       "      <td>4</td>\n",
       "      <td>2023</td>\n",
       "      <td>ABE59463-05-7E</td>\n",
       "      <td>software</td>\n",
       "      <td>project management</td>\n",
       "      <td>13.52</td>\n",
       "      <td>7.86</td>\n",
       "      <td>1.68</td>\n",
       "      <td>39</td>\n",
       "      <td>6</td>\n",
       "    </tr>\n",
       "    <tr>\n",
       "      <th>3</th>\n",
       "      <td>Nathan</td>\n",
       "      <td>Baker</td>\n",
       "      <td>Accounting technician</td>\n",
       "      <td>827-788-8123x012</td>\n",
       "      <td>bakernathan@benson.com</td>\n",
       "      <td>46554</td>\n",
       "      <td>9031802</td>\n",
       "      <td>2023-04-25</td>\n",
       "      <td>17</td>\n",
       "      <td>2023</td>\n",
       "      <td>ZMM00836-65-0C</td>\n",
       "      <td>consumables</td>\n",
       "      <td>pens</td>\n",
       "      <td>36.42</td>\n",
       "      <td>24.85</td>\n",
       "      <td>1.23</td>\n",
       "      <td>29</td>\n",
       "      <td>3</td>\n",
       "    </tr>\n",
       "    <tr>\n",
       "      <th>4</th>\n",
       "      <td>Christina</td>\n",
       "      <td>Schwartz</td>\n",
       "      <td>Chiropractor</td>\n",
       "      <td>265-829-3643</td>\n",
       "      <td>christinaschwartz9252@mcconnell.com</td>\n",
       "      <td>92089</td>\n",
       "      <td>1322274</td>\n",
       "      <td>2023-05-28</td>\n",
       "      <td>21</td>\n",
       "      <td>2023</td>\n",
       "      <td>BZX55559-12-3X</td>\n",
       "      <td>consumables</td>\n",
       "      <td>misc</td>\n",
       "      <td>195.10</td>\n",
       "      <td>108.17</td>\n",
       "      <td>46.43</td>\n",
       "      <td>20</td>\n",
       "      <td>1</td>\n",
       "    </tr>\n",
       "  </tbody>\n",
       "</table>\n",
       "</div>"
      ],
      "text/plain": [
       "       first      last                    job               phone  \\\n",
       "0     Donald   Harding           Immunologist  793-904-7725x39308   \n",
       "1    Tiffany     Myers        Music therapist    201.442.4543x942   \n",
       "2    Shannon    Watson           Immunologist   687.737.9424x8503   \n",
       "3     Nathan     Baker  Accounting technician    827-788-8123x012   \n",
       "4  Christina  Schwartz           Chiropractor        265-829-3643   \n",
       "\n",
       "                                 email  client_id  order_id  order_date  \\\n",
       "0     harding.donald.7185@sullivan.com      58515   8953482  2023-04-28   \n",
       "1    myers.t.6537@ferguson-johnson.net      37609   8069089  2023-05-19   \n",
       "2                swatson8146@payne.net      57113   1902144  2023-01-29   \n",
       "3               bakernathan@benson.com      46554   9031802  2023-04-25   \n",
       "4  christinaschwartz9252@mcconnell.com      92089   1322274  2023-05-28   \n",
       "\n",
       "   order_week  order_year         item_id     category         subcategory  \\\n",
       "0          17        2023  EUD29711-63-6U        decor            wall art   \n",
       "1          20        2023  XDA18116-89-4A  consumables                pens   \n",
       "2           4        2023  ABE59463-05-7E     software  project management   \n",
       "3          17        2023  ZMM00836-65-0C  consumables                pens   \n",
       "4          21        2023  BZX55559-12-3X  consumables                misc   \n",
       "\n",
       "   unit_price  unit_cost  unit_weight  qty  line_number  \n",
       "0     1096.80     762.71         7.50  105            1  \n",
       "1       24.95      15.09         1.49   21            0  \n",
       "2       13.52       7.86         1.68   39            6  \n",
       "3       36.42      24.85         1.23   29            3  \n",
       "4      195.10     108.17        46.43   20            1  "
      ]
     },
     "execution_count": 205,
     "metadata": {},
     "output_type": "execute_result"
    }
   ],
   "source": [
    "import pandas as pd\n",
    "import numpy as np \n",
    "\n",
    "df = pd.read_csv('Resources/client_dataset.csv')\n",
    "df.head()"
   ]
  },
  {
   "cell_type": "code",
   "execution_count": 206,
   "id": "71b9bbd2",
   "metadata": {},
   "outputs": [
    {
     "name": "stdout",
     "output_type": "stream",
     "text": [
      "Column names: Index(['first', 'last', 'job', 'phone', 'email', 'client_id', 'order_id',\n",
      "       'order_date', 'order_week', 'order_year', 'item_id', 'category',\n",
      "       'subcategory', 'unit_price', 'unit_cost', 'unit_weight', 'qty',\n",
      "       'line_number'],\n",
      "      dtype='object')\n"
     ]
    }
   ],
   "source": [
    "# View the column names in the data\n",
    "print(\"Column names:\", df.columns)\n"
   ]
  },
  {
   "cell_type": "code",
   "execution_count": 207,
   "id": "bc0f4172",
   "metadata": {},
   "outputs": [
    {
     "name": "stdout",
     "output_type": "stream",
     "text": [
      "          client_id      order_id    order_week    order_year    unit_price  \\\n",
      "count  54639.000000  5.463900e+04  54639.000000  54639.000000  54639.000000   \n",
      "mean   54837.869416  5.470190e+06     11.359139   2022.993064    136.267207   \n",
      "std    25487.438231  2.599807e+06      7.023499      0.082997    183.873135   \n",
      "min    10033.000000  1.000886e+06      1.000000   2022.000000      0.010000   \n",
      "25%    33593.000000  3.196372e+06      6.000000   2023.000000     20.800000   \n",
      "50%    53305.000000  5.496966e+06     11.000000   2023.000000     68.310000   \n",
      "75%    78498.000000  7.733869e+06     17.000000   2023.000000    173.160000   \n",
      "max    99984.000000  9.998480e+06     52.000000   2023.000000   1396.230000   \n",
      "\n",
      "          unit_cost   unit_weight           qty   line_number  \n",
      "count  54639.000000  54639.000000  5.463900e+04  54639.000000  \n",
      "mean      99.446073      5.004116  5.702646e+02      2.979667  \n",
      "std      133.164267      5.326599  1.879552e+04      2.436320  \n",
      "min        0.010000      0.000000  0.000000e+00      0.000000  \n",
      "25%       14.840000      1.450000  3.200000e+01      1.000000  \n",
      "50%       49.890000      3.240000  6.800000e+01      3.000000  \n",
      "75%      125.570000      6.890000  1.700000e+02      5.000000  \n",
      "max      846.270000     46.430000  3.958244e+06      9.000000  \n"
     ]
    }
   ],
   "source": [
    "# Use the describe function to gather some basic statistics\n",
    "print(df.describe())"
   ]
  },
  {
   "cell_type": "code",
   "execution_count": 208,
   "id": "b24b53cc",
   "metadata": {},
   "outputs": [
    {
     "name": "stdout",
     "output_type": "stream",
     "text": [
      "job\n",
      "Osteopath                             631\n",
      "Toxicologist                          546\n",
      "Architectural technologist            430\n",
      "Librarian, academic                   389\n",
      "Teacher, special educational needs    388\n",
      "                                     ... \n",
      "Copywriter, advertising                12\n",
      "Midwife                                10\n",
      "Insurance risk surveyor                 9\n",
      "Runner, broadcasting/film/video         9\n",
      "Advertising account planner             5\n",
      "Name: count, Length: 498, dtype: int64\n",
      "['Osteopath', 'Toxicologist', 'Architectural technologist', 'Librarian, academic', 'Teacher, special educational needs', 'Environmental manager', 'Public relations account executive', 'Call centre manager', 'Pension scheme manager', 'Audiological scientist', 'Emergency planning/management officer', 'Race relations officer', 'Physiotherapist', 'Hydrographic surveyor', 'Prison officer', 'Exhibitions officer, museum/gallery', 'Health and safety inspector', 'Buyer, industrial', 'Therapeutic radiographer', 'Actor', 'Administrator, charities/voluntary organisations', 'Education officer, museum', 'Research scientist (maths)', 'Drilling engineer', 'Therapist, drama', 'Commercial art gallery manager', 'Heritage manager', 'Haematologist', 'Make', 'Surveyor, land/geomatics', 'Agricultural consultant', 'Medical physicist', 'Financial trader', 'Software engineer', 'Production designer, theatre/television/film', 'Warden/ranger', 'Textile designer', 'Public relations officer', 'Environmental consultant', 'Consulting civil engineer', 'Psychiatrist', 'Dietitian', 'Designer, blown glass/stained glass', 'Armed forces technical officer', 'Chiropractor', 'Geophysical data processor', 'Immigration officer', 'Database administrator', 'Chief of Staff', 'Scientist, clinical (histocompatibility and immunogenetics)', 'Medical illustrator', 'Secretary, company', 'Archaeologist', 'Teacher, music', 'Local government officer', 'Town planner', 'Education administrator', 'Surveyor, mining', 'Camera operator', 'Journalist, magazine', 'Advice worker', 'Colour technologist', 'Purchasing manager', 'Surveyor, rural practice', 'Dispensing optician', 'Musician', 'Chief Financial Officer', 'Arts administrator', 'Graphic designer', 'Administrator, Civil Service', 'Retail manager', 'Radio producer', 'Broadcast journalist', 'Regulatory affairs officer', 'Solicitor, Scotland', 'Engineer, broadcasting (operations)', 'Psychologist, educational', 'Administrator, sports', 'Video editor', 'Architect', 'Investment banker, operational', 'Primary school teacher', 'Farm manager', 'Therapist, occupational', 'Therapist, sports', 'Nurse, learning disability', 'Diagnostic radiographer', 'Financial risk analyst', 'Ceramics designer', 'Legal executive', 'Lobbyist', 'Chartered management accountant', 'Customer service manager', 'Product manager', 'Product/process development scientist', 'Geographical information systems officer', 'Building services engineer', 'Exhibition designer', 'Theme park manager', 'Petroleum engineer', 'Best boy', 'Psychologist, clinical', 'Chiropodist', 'Land/geomatics surveyor', 'Armed forces training and education officer', 'Psychologist, prison and probation services', 'Editorial assistant', 'Health physicist', 'Commissioning editor', 'Sports coach', 'Technical brewer', 'Geneticist, molecular', 'Printmaker', 'Insurance underwriter', 'Facilities manager', 'Operational researcher', 'Retail buyer', 'Therapist, nutritional', 'Lawyer', 'Telecommunications researcher', 'Tree surgeon', 'Programmer, applications', 'Management consultant', 'Quarry manager', 'Engineer, structural', 'Journalist, newspaper', 'IT consultant', 'Publishing copy', 'Site engineer', 'Paramedic', 'Producer, radio', 'Geologist, engineering', 'Production engineer', 'Radiographer, diagnostic', 'Geologist, wellsite', 'Energy engineer', 'Minerals surveyor', 'Engineer, aeronautical', 'Secretary/administrator', 'Clinical psychologist', 'Designer, exhibition/display', 'General practice doctor', 'Intelligence analyst', 'Barrister', 'Product designer', 'Press sub', 'TEFL teacher', 'Scientist, research (physical sciences)', 'Claims inspector/assessor', 'Education officer, community', 'Structural engineer', 'Administrator, arts', 'Tourism officer', 'Music therapist', 'Teaching laboratory technician', 'Chartered accountant', 'Chartered certified accountant', 'Air cabin crew', 'Sales executive', 'Research officer, government', 'Herpetologist', 'Engineer, drilling', 'Learning mentor', 'Accountant, chartered certified', 'Energy manager', 'Museum education officer', 'Leisure centre manager', 'Actuary', 'Doctor, general practice', 'Equities trader', 'Multimedia specialist', 'Development worker, community', 'Media planner', 'Pharmacist, community', 'Conservator, museum/gallery', 'Educational psychologist', 'Designer, graphic', 'Speech and language therapist', 'Cabin crew', 'Dancer', 'Brewing technologist', 'Accountant, chartered', 'Recruitment consultant', 'Tax adviser', 'Aid worker', 'Surveyor, quantity', 'Market researcher', 'Restaurant manager, fast food', 'Mental health nurse', 'Charity fundraiser', 'Banker', 'Barista', 'Careers information officer', 'Artist', 'Communications engineer', 'Ophthalmologist', 'Radiation protection practitioner', 'Curator', 'Counselling psychologist', 'Technical sales engineer', 'Biochemist, clinical', 'Sports therapist', 'Presenter, broadcasting', 'Restaurant manager', 'Optician, dispensing', 'Designer, interior/spatial', 'Geophysicist/field seismologist', 'Museum/gallery exhibitions officer', 'Administrator, local government', 'Operations geologist', 'Outdoor activities/education manager', 'Engineer, electronics', 'Psychotherapist, child', \"Nurse, children's\", 'Glass blower/designer', 'Travel agency manager', 'Data processing manager', 'Medical laboratory scientific officer', 'Civil engineer, consulting', 'Further education lecturer', 'Exercise physiologist', 'Fish farm manager', 'Radio broadcast assistant', 'Amenity horticulturist', 'Research scientist (life sciences)', 'Orthoptist', 'Hospital doctor', 'Insurance broker', 'Education officer, environmental', 'Accounting technician', 'Senior tax professional/tax inspector', 'Government social research officer', 'Engineer, maintenance', 'Radiographer, therapeutic', 'Field seismologist', 'Personal assistant', 'Personnel officer', 'Games developer', 'Designer, jewellery', 'Retail merchandiser', 'Housing manager/officer', 'Museum/gallery curator', 'Animal technologist', 'Engineering geologist', 'Records manager', 'Information officer', 'Forest/woodland manager', 'IT technical support officer', 'Scientist, forensic', 'Homeopath', 'Medical secretary', 'Immunologist', 'Holiday representative', 'Special effects artist', 'Microbiologist', 'Production assistant, television', 'Dramatherapist', 'Learning disability nurse', 'Engineer, water', 'Engineer, mining', 'Buyer, retail', 'Financial adviser', 'Nature conservation officer', 'Seismic interpreter', 'Engineer, energy', 'Pilot, airline', 'Commercial horticulturist', 'Naval architect', 'Psychologist, sport and exercise', 'Mechanical engineer', 'Aeronautical engineer', 'Horticulturist, amenity', 'Solicitor', 'Journalist, broadcasting', 'Magazine journalist', 'Art gallery manager', 'Human resources officer', 'Lecturer, further education', 'Industrial/product designer', 'Photographer', 'Teacher, adult education', 'Fashion designer', 'Conservation officer, historic buildings', 'Event organiser', 'Waste management officer', 'Engineer, control and instrumentation', 'Field trials officer', 'Manufacturing engineer', 'Surveyor, hydrographic', 'Development worker, international aid', 'Engineer, technical sales', 'Private music teacher', 'Investment banker, corporate', 'Child psychotherapist', 'Logistics and distribution manager', 'Gaffer', 'Commercial/residential surveyor', 'Set designer', 'Designer, multimedia', 'Air broker', 'Conference centre manager', 'Engineer, building services', 'Advertising account executive', 'Physicist, medical', 'Land', 'Horticultural therapist', 'Surveyor, planning and development', 'Engineer, manufacturing systems', 'Warehouse manager', 'Accountant, chartered public finance', 'Editor, commissioning', 'Theatre director', 'Environmental education officer', 'Estate manager/land agent', 'Financial manager', 'Bookseller', 'Forensic psychologist', 'Engineer, land', 'Optometrist', 'Fine artist', 'Geoscientist', 'Estate agent', 'Plant breeder/geneticist', 'Analytical chemist', 'Astronomer', 'Accountant, chartered management', 'Scientist, water quality', 'Science writer', 'Clinical biochemist', 'Conservator, furniture', 'Public librarian', 'Civil Service fast streamer', 'Research officer, political party', 'Medical sales representative', 'Biomedical engineer', 'Equality and diversity officer', 'Lecturer, higher education', 'Medical technical officer', 'Teacher, primary school', 'Adult nurse', 'Trading standards officer', 'Programme researcher, broadcasting/film/video', 'Engineer, biomedical', 'Investment analyst', 'Designer, furniture', 'Community arts worker', 'Television floor manager', 'Social research officer, government', 'Biomedical scientist', 'Tour manager', 'Lighting technician, broadcasting/film/video', 'Archivist', 'Electrical engineer', 'Art therapist', 'Systems analyst', 'Diplomatic Services operational officer', 'Automotive engineer', 'Adult guidance worker', 'Arboriculturist', 'Advertising copywriter', 'Teacher, early years/pre', 'Dance movement psychotherapist', 'Designer, textile', 'Insurance account manager', 'Marine scientist', 'Arts development officer', 'Surveyor, building', 'Volunteer coordinator', 'English as a second language teacher', 'Psychotherapist, dance movement', 'Fitness centre manager', 'Physiological scientist', 'Print production planner', 'Designer, industrial/product', 'Associate Professor', 'Film/video editor', 'Pharmacist, hospital', 'Sound technician, broadcasting/film/video', 'Chemist, analytical', 'Rural practice surveyor', 'Museum/gallery conservator', 'Surveyor, commercial/residential', 'Hotel manager', 'Hydrogeologist', 'Ecologist', 'Health service manager', 'Therapist, music', 'Research scientist (medical)', 'Forensic scientist', 'Web designer', 'Engineer, manufacturing', 'Engineer, production', 'Careers adviser', 'Dentist', 'Nurse, adult', 'Historic buildings inspector/conservation officer', 'Health and safety adviser', 'Translator', \"Politician's assistant\", 'Police officer', 'Therapist, horticultural', 'Social researcher', 'Civil Service administrator', 'Jewellery designer', 'Clinical scientist, histocompatibility and immunogenetics', 'Accommodation manager', 'International aid/development worker', 'Paediatric nurse', 'Systems developer', 'Psychotherapist', 'Comptroller', 'Engineer, chemical', 'Freight forwarder', 'Hydrologist', 'Financial planner', 'Sales promotion account executive', 'Trade mark attorney', 'Embryologist, clinical', 'Surveyor, building control', 'Oncologist', 'Insurance claims handler', 'Water quality scientist', 'Ambulance person', 'Psychologist, counselling', 'IT trainer', 'Environmental health practitioner', 'Operational investment banker', 'Conservation officer, nature', 'Animator', 'Pharmacologist', 'Magazine features editor', 'Engineer, agricultural', 'Company secretary', 'Chief Operating Officer', 'Engineer, automotive', 'Surveyor, insurance', 'Newspaper journalist', 'Statistician', 'Clinical molecular geneticist', 'Information systems manager', 'Food technologist', 'Scientist, research (life sciences)', 'Ranger/warden', 'Corporate investment banker', 'Doctor, hospital', 'Sub', 'Community development worker', 'Materials engineer', 'Television camera operator', 'Surveyor, minerals', 'Armed forces logistics/support/administrative officer', 'Psychologist, forensic', 'Research officer, trade union', 'Clinical cytogeneticist', 'Cytogeneticist', 'Lexicographer', 'Airline pilot', 'Theatre stage manager', 'Counsellor', 'Clinical embryologist', 'Chief Technology Officer', 'Chartered loss adjuster', 'Retail banker', 'Surgeon', 'Passenger transport manager', 'Horticultural consultant', 'Engineer, site', 'Public affairs consultant', 'Theatre manager', 'Garment/textile technologist', 'Community pharmacist', 'Engineer, civil (contracting)', 'Herbalist', 'Editor, film/video', 'Location manager', 'Administrator', 'Chemical engineer', 'Youth worker', 'Quality manager', 'Chief Executive Officer', 'Engineer, electrical', 'Wellsite geologist', 'Maintenance engineer', 'Planning and development surveyor', 'Nutritional therapist', 'Merchant navy officer', 'Office manager', 'Network engineer', 'Occupational hygienist', 'Scientist, research (maths)', 'Engineer, materials', 'Special educational needs teacher', 'Publishing rights manager', 'Copywriter, advertising', 'Midwife', 'Insurance risk surveyor', 'Runner, broadcasting/film/video', 'Advertising account planner']\n",
      "[('Osteopath', 631), ('Toxicologist', 546), ('Architectural technologist', 430), ('Librarian, academic', 389), ('Teacher, special educational needs', 388), ('Environmental manager', 364), ('Public relations account executive', 362), ('Call centre manager', 355), ('Pension scheme manager', 349), ('Audiological scientist', 329), ('Emergency planning/management officer', 329), ('Race relations officer', 325), ('Physiotherapist', 305), ('Hydrographic surveyor', 301), ('Prison officer', 298), ('Exhibitions officer, museum/gallery', 298), ('Health and safety inspector', 295), ('Buyer, industrial', 294), ('Therapeutic radiographer', 289), ('Actor', 288), ('Administrator, charities/voluntary organisations', 285), ('Education officer, museum', 280), ('Research scientist (maths)', 275), ('Drilling engineer', 275), ('Therapist, drama', 271), ('Commercial art gallery manager', 265), ('Heritage manager', 265), ('Haematologist', 262), ('Make', 262), ('Surveyor, land/geomatics', 259), ('Agricultural consultant', 257), ('Medical physicist', 255), ('Financial trader', 253), ('Software engineer', 250), ('Production designer, theatre/television/film', 250), ('Warden/ranger', 249), ('Textile designer', 246), ('Public relations officer', 242), ('Environmental consultant', 240), ('Consulting civil engineer', 240), ('Psychiatrist', 240), ('Dietitian', 238), ('Designer, blown glass/stained glass', 234), ('Armed forces technical officer', 230), ('Chiropractor', 230), ('Geophysical data processor', 228), ('Immigration officer', 228), ('Database administrator', 227), ('Chief of Staff', 226), ('Scientist, clinical (histocompatibility and immunogenetics)', 225), ('Medical illustrator', 224), ('Secretary, company', 219), ('Archaeologist', 217), ('Teacher, music', 215), ('Local government officer', 215), ('Town planner', 215), ('Education administrator', 210), ('Surveyor, mining', 210), ('Camera operator', 209), ('Journalist, magazine', 206), ('Advice worker', 206), ('Colour technologist', 205), ('Purchasing manager', 205), ('Surveyor, rural practice', 204), ('Dispensing optician', 204), ('Musician', 202), ('Chief Financial Officer', 201), ('Arts administrator', 201), ('Graphic designer', 200), ('Administrator, Civil Service', 199), ('Retail manager', 198), ('Radio producer', 197), ('Broadcast journalist', 197), ('Regulatory affairs officer', 197), ('Solicitor, Scotland', 196), ('Engineer, broadcasting (operations)', 196), ('Psychologist, educational', 193), ('Administrator, sports', 193), ('Video editor', 192), ('Architect', 191), ('Investment banker, operational', 190), ('Primary school teacher', 190), ('Farm manager', 190), ('Therapist, occupational', 186), ('Therapist, sports', 184), ('Nurse, learning disability', 184), ('Diagnostic radiographer', 183), ('Financial risk analyst', 181), ('Ceramics designer', 180), ('Legal executive', 179), ('Lobbyist', 178), ('Chartered management accountant', 177), ('Customer service manager', 177), ('Product manager', 177), ('Product/process development scientist', 175), ('Geographical information systems officer', 175), ('Building services engineer', 173), ('Exhibition designer', 173), ('Theme park manager', 173), ('Petroleum engineer', 170), ('Best boy', 167), ('Psychologist, clinical', 166), ('Chiropodist', 166), ('Land/geomatics surveyor', 164), ('Armed forces training and education officer', 164), ('Psychologist, prison and probation services', 164), ('Editorial assistant', 163), ('Health physicist', 162), ('Commissioning editor', 162), ('Sports coach', 161), ('Technical brewer', 161), ('Geneticist, molecular', 161), ('Printmaker', 161), ('Insurance underwriter', 159), ('Facilities manager', 158), ('Operational researcher', 158), ('Retail buyer', 157), ('Therapist, nutritional', 157), ('Lawyer', 156), ('Telecommunications researcher', 154), ('Tree surgeon', 151), ('Programmer, applications', 150), ('Management consultant', 150), ('Quarry manager', 149), ('Engineer, structural', 149), ('Journalist, newspaper', 148), ('IT consultant', 148), ('Publishing copy', 147), ('Site engineer', 147), ('Paramedic', 146), ('Producer, radio', 145), ('Geologist, engineering', 145), ('Production engineer', 145), ('Radiographer, diagnostic', 145), ('Geologist, wellsite', 145), ('Energy engineer', 144), ('Minerals surveyor', 143), ('Engineer, aeronautical', 142), ('Secretary/administrator', 141), ('Clinical psychologist', 141), ('Designer, exhibition/display', 139), ('General practice doctor', 138), ('Intelligence analyst', 136), ('Barrister', 136), ('Product designer', 135), ('Press sub', 135), ('TEFL teacher', 135), ('Scientist, research (physical sciences)', 134), ('Claims inspector/assessor', 133), ('Education officer, community', 133), ('Structural engineer', 131), ('Administrator, arts', 130), ('Tourism officer', 130), ('Music therapist', 129), ('Teaching laboratory technician', 128), ('Chartered accountant', 127), ('Chartered certified accountant', 127), ('Air cabin crew', 127), ('Sales executive', 127), ('Research officer, government', 127), ('Herpetologist', 127), ('Engineer, drilling', 126), ('Learning mentor', 125), ('Accountant, chartered certified', 125), ('Energy manager', 124), ('Museum education officer', 124), ('Leisure centre manager', 124), ('Actuary', 124), ('Doctor, general practice', 124), ('Equities trader', 123), ('Multimedia specialist', 123), ('Development worker, community', 122), ('Media planner', 122), ('Pharmacist, community', 122), ('Conservator, museum/gallery', 120), ('Educational psychologist', 120), ('Designer, graphic', 120), ('Speech and language therapist', 120), ('Cabin crew', 119), ('Dancer', 119), ('Brewing technologist', 118), ('Accountant, chartered', 118), ('Recruitment consultant', 118), ('Tax adviser', 117), ('Aid worker', 115), ('Surveyor, quantity', 115), ('Market researcher', 115), ('Restaurant manager, fast food', 115), ('Mental health nurse', 115), ('Charity fundraiser', 113), ('Banker', 113), ('Barista', 112), ('Careers information officer', 112), ('Artist', 112), ('Communications engineer', 112), ('Ophthalmologist', 110), ('Radiation protection practitioner', 109), ('Curator', 109), ('Counselling psychologist', 109), ('Technical sales engineer', 109), ('Biochemist, clinical', 109), ('Sports therapist', 108), ('Presenter, broadcasting', 108), ('Restaurant manager', 108), ('Optician, dispensing', 108), ('Designer, interior/spatial', 107), ('Geophysicist/field seismologist', 107), ('Museum/gallery exhibitions officer', 106), ('Administrator, local government', 106), ('Operations geologist', 105), ('Outdoor activities/education manager', 105), ('Engineer, electronics', 104), ('Psychotherapist, child', 104), (\"Nurse, children's\", 104), ('Glass blower/designer', 102), ('Travel agency manager', 102), ('Data processing manager', 101), ('Medical laboratory scientific officer', 100), ('Civil engineer, consulting', 99), ('Further education lecturer', 99), ('Exercise physiologist', 99), ('Fish farm manager', 99), ('Radio broadcast assistant', 99), ('Amenity horticulturist', 99), ('Research scientist (life sciences)', 99), ('Orthoptist', 98), ('Hospital doctor', 97), ('Insurance broker', 96), ('Education officer, environmental', 96), ('Accounting technician', 95), ('Senior tax professional/tax inspector', 94), ('Government social research officer', 94), ('Engineer, maintenance', 94), ('Radiographer, therapeutic', 94), ('Field seismologist', 94), ('Personal assistant', 93), ('Personnel officer', 93), ('Games developer', 93), ('Designer, jewellery', 92), ('Retail merchandiser', 92), ('Housing manager/officer', 91), ('Museum/gallery curator', 90), ('Animal technologist', 90), ('Engineering geologist', 90), ('Records manager', 89), ('Information officer', 88), ('Forest/woodland manager', 87), ('IT technical support officer', 87), ('Scientist, forensic', 86), ('Homeopath', 86), ('Medical secretary', 85), ('Immunologist', 85), ('Holiday representative', 85), ('Special effects artist', 85), ('Microbiologist', 85), ('Production assistant, television', 84), ('Dramatherapist', 84), ('Learning disability nurse', 83), ('Engineer, water', 82), ('Engineer, mining', 82), ('Buyer, retail', 82), ('Financial adviser', 82), ('Nature conservation officer', 81), ('Seismic interpreter', 81), ('Engineer, energy', 81), ('Pilot, airline', 79), ('Commercial horticulturist', 78), ('Naval architect', 78), ('Psychologist, sport and exercise', 78), ('Mechanical engineer', 78), ('Aeronautical engineer', 77), ('Horticulturist, amenity', 77), ('Solicitor', 77), ('Journalist, broadcasting', 77), ('Magazine journalist', 77), ('Art gallery manager', 77), ('Human resources officer', 76), ('Lecturer, further education', 76), ('Industrial/product designer', 75), ('Photographer', 75), ('Teacher, adult education', 75), ('Fashion designer', 75), ('Conservation officer, historic buildings', 75), ('Event organiser', 74), ('Waste management officer', 74), ('Engineer, control and instrumentation', 73), ('Field trials officer', 73), ('Manufacturing engineer', 73), ('Surveyor, hydrographic', 72), ('Development worker, international aid', 72), ('Engineer, technical sales', 72), ('Private music teacher', 71), ('Investment banker, corporate', 71), ('Child psychotherapist', 70), ('Logistics and distribution manager', 70), ('Gaffer', 70), ('Commercial/residential surveyor', 69), ('Set designer', 69), ('Designer, multimedia', 69), ('Air broker', 68), ('Conference centre manager', 68), ('Engineer, building services', 67), ('Advertising account executive', 67), ('Physicist, medical', 66), ('Land', 66), ('Horticultural therapist', 65), ('Surveyor, planning and development', 65), ('Engineer, manufacturing systems', 65), ('Warehouse manager', 65), ('Accountant, chartered public finance', 65), ('Editor, commissioning', 64), ('Theatre director', 64), ('Environmental education officer', 64), ('Estate manager/land agent', 64), ('Financial manager', 63), ('Bookseller', 63), ('Forensic psychologist', 63), ('Engineer, land', 63), ('Optometrist', 62), ('Fine artist', 62), ('Geoscientist', 62), ('Estate agent', 61), ('Plant breeder/geneticist', 61), ('Analytical chemist', 61), ('Astronomer', 61), ('Accountant, chartered management', 61), ('Scientist, water quality', 60), ('Science writer', 60), ('Clinical biochemist', 60), ('Conservator, furniture', 59), ('Public librarian', 59), ('Civil Service fast streamer', 59), ('Research officer, political party', 59), ('Medical sales representative', 58), ('Biomedical engineer', 58), ('Equality and diversity officer', 58), ('Lecturer, higher education', 58), ('Medical technical officer', 57), ('Teacher, primary school', 57), ('Adult nurse', 57), ('Trading standards officer', 57), ('Programme researcher, broadcasting/film/video', 56), ('Engineer, biomedical', 56), ('Investment analyst', 56), ('Designer, furniture', 56), ('Community arts worker', 55), ('Television floor manager', 55), ('Social research officer, government', 55), ('Biomedical scientist', 55), ('Tour manager', 54), ('Lighting technician, broadcasting/film/video', 54), ('Archivist', 54), ('Electrical engineer', 54), ('Art therapist', 54), ('Systems analyst', 53), ('Diplomatic Services operational officer', 53), ('Automotive engineer', 52), ('Adult guidance worker', 52), ('Arboriculturist', 52), ('Advertising copywriter', 52), ('Teacher, early years/pre', 51), ('Dance movement psychotherapist', 51), ('Designer, textile', 51), ('Insurance account manager', 51), ('Marine scientist', 51), ('Arts development officer', 50), ('Surveyor, building', 49), ('Volunteer coordinator', 49), ('English as a second language teacher', 49), ('Psychotherapist, dance movement', 48), ('Fitness centre manager', 48), ('Physiological scientist', 48), ('Print production planner', 48), ('Designer, industrial/product', 47), ('Associate Professor', 47), ('Film/video editor', 47), ('Pharmacist, hospital', 47), ('Sound technician, broadcasting/film/video', 47), ('Chemist, analytical', 47), ('Rural practice surveyor', 46), ('Museum/gallery conservator', 46), ('Surveyor, commercial/residential', 46), ('Hotel manager', 45), ('Hydrogeologist', 45), ('Ecologist', 45), ('Health service manager', 45), ('Therapist, music', 44), ('Research scientist (medical)', 44), ('Forensic scientist', 44), ('Web designer', 44), ('Engineer, manufacturing', 44), ('Engineer, production', 44), ('Careers adviser', 44), ('Dentist', 43), ('Nurse, adult', 43), ('Historic buildings inspector/conservation officer', 43), ('Health and safety adviser', 43), ('Translator', 42), (\"Politician's assistant\", 42), ('Police officer', 41), ('Therapist, horticultural', 41), ('Social researcher', 41), ('Civil Service administrator', 40), ('Jewellery designer', 40), ('Clinical scientist, histocompatibility and immunogenetics', 40), ('Accommodation manager', 40), ('International aid/development worker', 40), ('Paediatric nurse', 40), ('Systems developer', 40), ('Psychotherapist', 39), ('Comptroller', 39), ('Engineer, chemical', 39), ('Freight forwarder', 39), ('Hydrologist', 38), ('Financial planner', 37), ('Sales promotion account executive', 37), ('Trade mark attorney', 37), ('Embryologist, clinical', 36), ('Surveyor, building control', 36), ('Oncologist', 35), ('Insurance claims handler', 35), ('Water quality scientist', 34), ('Ambulance person', 34), ('Psychologist, counselling', 34), ('IT trainer', 34), ('Environmental health practitioner', 33), ('Operational investment banker', 33), ('Conservation officer, nature', 33), ('Animator', 33), ('Pharmacologist', 33), ('Magazine features editor', 33), ('Engineer, agricultural', 33), ('Company secretary', 32), ('Chief Operating Officer', 32), ('Engineer, automotive', 32), ('Surveyor, insurance', 32), ('Newspaper journalist', 31), ('Statistician', 31), ('Clinical molecular geneticist', 31), ('Information systems manager', 30), ('Food technologist', 29), ('Scientist, research (life sciences)', 29), ('Ranger/warden', 29), ('Corporate investment banker', 29), ('Doctor, hospital', 28), ('Sub', 28), ('Community development worker', 27), ('Materials engineer', 27), ('Television camera operator', 27), ('Surveyor, minerals', 27), ('Armed forces logistics/support/administrative officer', 26), ('Psychologist, forensic', 26), ('Research officer, trade union', 26), ('Clinical cytogeneticist', 26), ('Cytogeneticist', 25), ('Lexicographer', 25), ('Airline pilot', 25), ('Theatre stage manager', 25), ('Counsellor', 24), ('Clinical embryologist', 24), ('Chief Technology Officer', 24), ('Chartered loss adjuster', 24), ('Retail banker', 24), ('Surgeon', 24), ('Passenger transport manager', 23), ('Horticultural consultant', 23), ('Engineer, site', 23), ('Public affairs consultant', 23), ('Theatre manager', 23), ('Garment/textile technologist', 22), ('Community pharmacist', 22), ('Engineer, civil (contracting)', 21), ('Herbalist', 21), ('Editor, film/video', 21), ('Location manager', 20), ('Administrator', 20), ('Chemical engineer', 19), ('Youth worker', 19), ('Quality manager', 19), ('Chief Executive Officer', 18), ('Engineer, electrical', 18), ('Wellsite geologist', 18), ('Maintenance engineer', 18), ('Planning and development surveyor', 18), ('Nutritional therapist', 18), ('Merchant navy officer', 17), ('Office manager', 17), ('Network engineer', 15), ('Occupational hygienist', 14), ('Scientist, research (maths)', 14), ('Engineer, materials', 13), ('Special educational needs teacher', 13), ('Publishing rights manager', 13), ('Copywriter, advertising', 12), ('Midwife', 10), ('Insurance risk surveyor', 9), ('Runner, broadcasting/film/video', 9), ('Advertising account planner', 5)]\n",
      "area_code\n",
      "265    491\n",
      "893    476\n",
      "234    447\n",
      "729    400\n",
      "664    350\n",
      "      ... \n",
      "378      7\n",
      "917      6\n",
      "630      6\n",
      "625      5\n",
      "696      4\n",
      "Name: count, Length: 492, dtype: int64\n"
     ]
    }
   ],
   "source": [
    "# Use this space to do any additional research\n",
    "# and familiarize yourself with the data.\n",
    "\n",
    "# Looking for how many clients do the same job.\n",
    "job_counts = df['job'].value_counts()\n",
    "print(job_counts)\n",
    "\n",
    "job_descriptions = job_counts.index.tolist()\n",
    "print(job_descriptions)\n",
    "\n",
    "job_description_counts = list(job_counts.items())\n",
    "print(job_description_counts)\n",
    "\n",
    "# Looking to see how many people per area code\n",
    "import re\n",
    "\n",
    "# Define a function to extract the area code from a phone number\n",
    "def extract_area_code(phone):\n",
    "    # Search for the pattern (1)?(\\d{3})[-.\\s]?(\\d{3})[-.\\s]?(\\d{4})(x\\d+)?\n",
    "    # and capture the 3-digit area code in the second group\n",
    "    match = re.search(r'(1)?(\\d{3})[-.\\s]?(\\d{3})[-.\\s]?(\\d{4})(x\\d+)?', phone)\n",
    "    if match:\n",
    "        return match.group(2)\n",
    "    else:\n",
    "        return None\n",
    "\n",
    "# Apply the function to the 'phone' column to extract the area code\n",
    "df['area_code'] = df['phone'].apply(extract_area_code)\n",
    "\n",
    "# Count the number of phone numbers by area code\n",
    "area_code_counts = df['area_code'].value_counts()\n",
    "\n",
    "# Print the result\n",
    "print(area_code_counts)\n"
   ]
  },
  {
   "cell_type": "code",
   "execution_count": 209,
   "id": "551cb358",
   "metadata": {},
   "outputs": [
    {
     "name": "stdout",
     "output_type": "stream",
     "text": [
      "Top 3 item categories with the most entries:\n",
      "category\n",
      "consumables    23538\n",
      "furniture      11915\n",
      "software        8400\n",
      "Name: count, dtype: int64\n"
     ]
    }
   ],
   "source": [
    "# What three item categories had the most entries?\n",
    "top_categories = df['category'].value_counts().head(3)\n",
    "print(\"Top 3 item categories with the most entries:\")\n",
    "print(top_categories)"
   ]
  },
  {
   "cell_type": "code",
   "execution_count": 210,
   "id": "5f54e2cf",
   "metadata": {},
   "outputs": [
    {
     "name": "stdout",
     "output_type": "stream",
     "text": [
      "Subcategory with the most entries in consumables: bathroom supplies\n"
     ]
    }
   ],
   "source": [
    "# For the category with the most entries, which subcategory had the most entries?\n",
    "top_category = top_categories.index[0]\n",
    "top_subcategory = df[df['category'] == top_category]['subcategory'].value_counts().idxmax()\n",
    "print(f\"Subcategory with the most entries in {top_category}: {top_subcategory}\")"
   ]
  },
  {
   "cell_type": "code",
   "execution_count": 211,
   "id": "2db94379",
   "metadata": {},
   "outputs": [
    {
     "name": "stdout",
     "output_type": "stream",
     "text": [
      "Top 5 clients with the most entries:\n",
      "client_id\n",
      "33615    220\n",
      "66037    211\n",
      "46820    209\n",
      "38378    207\n",
      "24741    207\n",
      "Name: count, dtype: int64\n"
     ]
    }
   ],
   "source": [
    "# Which five clients had the most entries in the data?\n",
    "top_clients = df['client_id'].value_counts().head(5)\n",
    "print(\"Top 5 clients with the most entries:\")\n",
    "print(top_clients)"
   ]
  },
  {
   "cell_type": "code",
   "execution_count": 212,
   "id": "a6635601",
   "metadata": {},
   "outputs": [
    {
     "name": "stdout",
     "output_type": "stream",
     "text": [
      "Top 5 client IDs: [33615, 66037, 46820, 38378, 24741]\n"
     ]
    }
   ],
   "source": [
    "# Store the client ids of those top 5 clients in a list.\n",
    "top_client_ids = top_clients.index.tolist()\n",
    "print(\"Top 5 client IDs:\", top_client_ids)"
   ]
  },
  {
   "cell_type": "code",
   "execution_count": 213,
   "id": "c88b8a3e",
   "metadata": {},
   "outputs": [
    {
     "name": "stdout",
     "output_type": "stream",
     "text": [
      "Total units ordered by the client with the most entries: 64313\n"
     ]
    }
   ],
   "source": [
    "# How many total units (the qty column) did the client with the most entries order order?\n",
    "most_units_ordered = df[df['client_id'] == top_client_ids[0]]['qty'].sum()\n",
    "print(f\"Total units ordered by the client with the most entries: {most_units_ordered}\")"
   ]
  },
  {
   "cell_type": "markdown",
   "id": "257fcd7d",
   "metadata": {},
   "source": [
    "## Part 2: Transform the Data\n",
    "Do we know that this client spent the more money than client 66037? If not, how would we find out? Transform the data using the steps below to prepare it for analysis."
   ]
  },
  {
   "cell_type": "code",
   "execution_count": 214,
   "id": "0c25c4a8",
   "metadata": {},
   "outputs": [
    {
     "name": "stdout",
     "output_type": "stream",
     "text": [
      "   unit_price  qty   subtotal\n",
      "0     1096.80  105  115164.00\n",
      "1       24.95   21     523.95\n",
      "2       13.52   39     527.28\n",
      "3       36.42   29    1056.18\n",
      "4      195.10   20    3902.00\n"
     ]
    }
   ],
   "source": [
    "# Create a column that calculates the subtotal for each line using the unit_price and the qty\n",
    "df['subtotal'] = df['unit_price'] * df['qty']\n",
    "print(df[['unit_price', 'qty', 'subtotal']].head())"
   ]
  },
  {
   "cell_type": "code",
   "execution_count": 215,
   "id": "ac9dafc8",
   "metadata": {},
   "outputs": [
    {
     "name": "stdout",
     "output_type": "stream",
     "text": [
      "   unit_weight  shipping_price\n",
      "0         7.50         5512.50\n",
      "1         1.49          312.90\n",
      "2         1.68          458.64\n",
      "3         1.23          356.70\n",
      "4        46.43         6500.20\n"
     ]
    }
   ],
   "source": [
    "# Create a column for shipping price.\n",
    "# Assume a shipping price of $7 per pound for orders over 50 pounds and $10 per pound for items 50 pounds or under.\n",
    "df['total_weight'] = df['unit_weight'] * df['qty']\n",
    "\n",
    "df['shipping_price'] = np.where(df['total_weight'] > 50, df['total_weight'] * 7, df['total_weight'] * 10)\n",
    "\n",
    "print(df[['unit_weight', 'shipping_price']].head())\n"
   ]
  },
  {
   "cell_type": "code",
   "execution_count": 216,
   "id": "77f42c67",
   "metadata": {},
   "outputs": [
    {
     "name": "stdout",
     "output_type": "stream",
     "text": [
      "    subtotal  shipping_price    total_price\n",
      "0  115164.00         5512.50  131839.076250\n",
      "1     523.95          312.90     914.258625\n",
      "2     527.28          458.64    1077.117600\n",
      "3    1056.18          356.70    1543.571400\n",
      "4    3902.00         6500.20   11364.403500\n"
     ]
    }
   ],
   "source": [
    "# Create a column for the total price using the subtotal and the shipping price along with a sales tax of 9.25%\n",
    "sales_tax_rate = 0.0925\n",
    "df['total_price'] = (df['subtotal'] + df['shipping_price']) * (1 + sales_tax_rate)\n",
    "\n",
    "print(df[['subtotal', 'shipping_price', 'total_price']].head())"
   ]
  },
  {
   "cell_type": "code",
   "execution_count": 217,
   "id": "c82ad275",
   "metadata": {},
   "outputs": [
    {
     "name": "stdout",
     "output_type": "stream",
     "text": [
      "   unit_cost  qty  shipping_price  line_cost\n",
      "0     762.71  105         5512.50   85597.05\n",
      "1      15.09   21          312.90     629.79\n",
      "2       7.86   39          458.64     765.18\n",
      "3      24.85   29          356.70    1077.35\n",
      "4     108.17   20         6500.20    8663.60\n"
     ]
    }
   ],
   "source": [
    "# Create a column for the cost of each line using unit cost, qty, and\n",
    "# shipping price (assume the shipping cost is exactly what is charged to the client).\n",
    "df['line_cost'] = (df['unit_cost'] * df['qty']) + df['shipping_price']\n",
    "\n",
    "print(df[['unit_cost', 'qty', 'shipping_price', 'line_cost']].head())\n"
   ]
  },
  {
   "cell_type": "code",
   "execution_count": 218,
   "id": "e2389018",
   "metadata": {},
   "outputs": [
    {
     "name": "stdout",
     "output_type": "stream",
     "text": [
      "     total_price  line_cost        profit\n",
      "0  131839.076250   85597.05  46242.026250\n",
      "1     914.258625     629.79    284.468625\n",
      "2    1077.117600     765.18    311.937600\n",
      "3    1543.571400    1077.35    466.221400\n",
      "4   11364.403500    8663.60   2700.803500\n"
     ]
    }
   ],
   "source": [
    "# Create a column for the profit of each line using line cost and line price\n",
    "\n",
    "df['profit'] = df['total_price'] - df['line_cost']\n",
    "\n",
    "print(df[['total_price', 'line_cost', 'profit']].head())"
   ]
  },
  {
   "cell_type": "markdown",
   "id": "ef6f62b1",
   "metadata": {},
   "source": [
    "## Part 3: Confirm your work\n",
    "You have email receipts showing that the total prices for 3 orders. Confirm that your calculations match the receipts. Remember, each order has multiple lines.\n",
    "\n",
    "Order ID 2742071 had a total price of \\$152,811.89\n",
    "\n",
    "Order ID 2173913 had a total price of \\$162,388.71\n",
    "\n",
    "Order ID 6128929 had a total price of \\$923,441.25\n"
   ]
  },
  {
   "cell_type": "code",
   "execution_count": 219,
   "id": "c0e5d68e",
   "metadata": {},
   "outputs": [
    {
     "name": "stdout",
     "output_type": "stream",
     "text": [
      "Order ID 2742071 calculated total: $152,811.90\n",
      "Order ID 2173913 calculated total: $162,388.72\n",
      "Order ID 6128929 calculated total: $923,441.24\n",
      "Order ID 2742071 matches receipt: True\n",
      "Order ID 2173913 matches receipt: True\n",
      "Order ID 6128929 matches receipt: True\n"
     ]
    }
   ],
   "source": [
    "# Check your work using the totals above\n",
    "\n",
    "import math\n",
    "\n",
    "\n",
    "# Given order totals to verify\n",
    "provided_totals = {\n",
    "    2742071: 152811.89,\n",
    "    2173913: 162388.71,\n",
    "    6128929: 923441.25\n",
    "}\n",
    "\n",
    "# Define a small tolerance for the comparison\n",
    "tolerance = 0.02\n",
    "\n",
    "# Filter the DataFrame for each Order ID and calculate the total prices\n",
    "order_2742071_total = round(df[df['order_id'] == 2742071]['total_price'].sum(), 2)\n",
    "order_2173913_total = round(df[df['order_id'] == 2173913]['total_price'].sum(), 2)\n",
    "order_6128929_total = round(df[df['order_id'] == 6128929]['total_price'].sum(), 2)\n",
    "\n",
    "# Print the calculated totals\n",
    "print(f\"Order ID 2742071 calculated total: ${order_2742071_total:,.2f}\")\n",
    "print(f\"Order ID 2173913 calculated total: ${order_2173913_total:,.2f}\")\n",
    "print(f\"Order ID 6128929 calculated total: ${order_6128929_total:,.2f}\")\n",
    "\n",
    "# Check if they match the provided totals using a flexible comparison\n",
    "matches_2742071 = abs(order_2742071_total - provided_totals[2742071]) <= tolerance\n",
    "matches_2173913 = abs(order_2173913_total - provided_totals[2173913]) <= tolerance\n",
    "matches_6128929 = abs(order_6128929_total - provided_totals[6128929]) <= tolerance\n",
    "\n",
    "# Print the result of the comparison\n",
    "print(f\"Order ID 2742071 matches receipt: {matches_2742071}\")\n",
    "print(f\"Order ID 2173913 matches receipt: {matches_2173913}\")\n",
    "print(f\"Order ID 6128929 matches receipt: {matches_6128929}\")\n",
    "\n",
    "\n",
    "\n",
    "\n"
   ]
  },
  {
   "cell_type": "markdown",
   "id": "b94d58ab",
   "metadata": {},
   "source": [
    "## Part 4: Summarize and Analyze\n",
    "Use the new columns with confirmed values to find the following information."
   ]
  },
  {
   "cell_type": "code",
   "execution_count": 220,
   "id": "7c005f34",
   "metadata": {},
   "outputs": [
    {
     "name": "stdout",
     "output_type": "stream",
     "text": [
      "Client ID 33615 spent a total of $8,377,308.57\n",
      "Client ID 66037 spent a total of $10,259,514.80\n",
      "Client ID 46820 spent a total of $9,743,794.32\n",
      "Client ID 38378 spent a total of $12,906,550.88\n",
      "Client ID 24741 spent a total of $82,268,891.98\n"
     ]
    }
   ],
   "source": [
    "# How much did each of the top 5 clients by quantity spend? Check your work from Part 1 for client ids.\n",
    "\n",
    "top_clients = [33615, 66037, 46820, 38378, 24741]\n",
    "\n",
    "for client_id in top_clients:\n",
    "    client_total_spend = df[df['client_id'] == client_id]['total_price'].sum()\n",
    "    print(f\"Client ID {client_id} spent a total of ${client_total_spend:,.2f}\")"
   ]
  },
  {
   "cell_type": "code",
   "execution_count": 223,
   "id": "81b6e4d2",
   "metadata": {},
   "outputs": [
    {
     "name": "stdout",
     "output_type": "stream",
     "text": [
      "   Client ID  Total Units  Total Shipping Price   Total Revenue  \\\n",
      "0      33615        64313            1828984.89   $8,377,308.57   \n",
      "1      66037        43018            1395151.85  $10,259,514.80   \n",
      "2      46820        75768            1601448.84   $9,743,794.32   \n",
      "3      38378        73667            3429455.40  $12,906,550.88   \n",
      "4      24741       239862            5126448.37  $82,268,891.98   \n",
      "\n",
      "     Total Profit  \n",
      "0   $2,201,994.66  \n",
      "1   $3,255,031.82  \n",
      "2   $2,736,602.68  \n",
      "3   $3,271,829.90  \n",
      "4  $36,579,992.27  \n"
     ]
    }
   ],
   "source": [
    "# Create a summary DataFrame showing the totals for the for the top 5 clients with the following information:\n",
    "# total units purchased, total shipping price, total revenue, and total profit. \n",
    "\n",
    "summary_data =[]\n",
    "\n",
    "# Calculate the metrics for each top client\n",
    "for client_id in top_clients:\n",
    "    total_units = df[df['client_id'] == client_id]['qty'].sum()\n",
    "    total_shipping = df[df['client_id'] == client_id]['shipping_price'].sum()\n",
    "    total_revenue = df[df['client_id'] == client_id]['total_price'].sum()\n",
    "    total_profit = df[df['client_id'] == client_id]['profit'].sum()\n",
    "\n",
    "    # append the data for this client to the summary list\n",
    "    summary_data.append({\n",
    "        'Client ID': client_id,\n",
    "        'Total Units': total_units,\n",
    "        'Total Shipping Price': total_shipping,\n",
    "        'Total Revenue': total_revenue,\n",
    "        'Total Profit': total_profit\n",
    "    })\n",
    "\n",
    "# Convert to DataFrame\n",
    "summary_df = pd.DataFrame(summary_data)\n",
    "\n",
    "# Format the Total Revenue and Total Profit columns with dollar signs\n",
    "summary_df['Total Revenue'] = summary_df['Total Revenue'].apply(lambda x: f\"${x:,.2f}\")\n",
    "summary_df['Total Profit'] = summary_df['Total Profit'].apply(lambda x: f\"${x:,.2f}\")\n",
    "\n",
    "print(summary_df)"
   ]
  },
  {
   "cell_type": "code",
   "execution_count": 224,
   "id": "7be02867",
   "metadata": {},
   "outputs": [
    {
     "name": "stdout",
     "output_type": "stream",
     "text": [
      "\n",
      "Final DataFrame:\n",
      "   Client ID  Total Units Purchased Total Shipping Cost (Millions $)  \\\n",
      "0      33615                  64313                           $1.83M   \n",
      "1      66037                  43018                           $1.40M   \n",
      "2      46820                  75768                           $1.60M   \n",
      "3      38378                  73667                           $3.43M   \n",
      "4      24741                 239862                           $5.13M   \n",
      "\n",
      "  Total Revenue (Millions $) Total Profit (Millions $)  \n",
      "0                     $8.38M                    $2.20M  \n",
      "1                    $10.26M                    $3.26M  \n",
      "2                     $9.74M                    $2.74M  \n",
      "3                    $12.91M                    $3.27M  \n",
      "4                    $82.27M                   $36.58M  \n"
     ]
    }
   ],
   "source": [
    "# Format the data and rename the columns to names suitable for presentation.\n",
    "summary_df = summary_df.rename(columns={\n",
    "    'Client ID': 'Client ID',\n",
    "    'Total Units': 'Total Units Purchased',\n",
    "    'Total Shipping Price': 'Total Shipping Cost',\n",
    "    'Total Revenue': 'Total Revenue ($)',\n",
    "    'Total Profit': 'Total Profit ($)'\n",
    "})\n",
    "\n",
    "\n",
    "# Define the money columns with the new names\n",
    "money_columns = ['Total Shipping Cost', 'Total Revenue ($)', 'Total Profit ($)']\n",
    "\n",
    "# Define a function that converts a dollar amount to millions.\n",
    "def currency_format_millions(x):\n",
    "    return f\"${x / 1_000_000:.2f}M\"\n",
    "\n",
    "# Apply the currency_format_millions function to the correctly named money columns\n",
    "for column in money_columns:\n",
    "    if column in summary_df.columns:\n",
    "        # First, strip any existing dollar signs and commas, then convert to float\n",
    "        summary_df[column] = summary_df[column].replace(r'[\\$,]', '', regex=True).astype(float)\n",
    "        # Apply the currency formatting\n",
    "        summary_df[column] = summary_df[column].apply(currency_format_millions)\n",
    "    else:\n",
    "        print(f\"Warning: Column {column} not found in DataFrame!\")\n",
    "\n",
    "# Rename the columns to indicate the values are in millions\n",
    "summary_df = summary_df.rename(columns={\n",
    "    'Total Shipping Cost': 'Total Shipping Cost (Millions $)',\n",
    "    'Total Revenue ($)': 'Total Revenue (Millions $)',\n",
    "    'Total Profit ($)': 'Total Profit (Millions $)'\n",
    "})\n",
    "\n",
    "print(\"\\nFinal DataFrame:\")\n",
    "print(summary_df)\n",
    "\n"
   ]
  },
  {
   "cell_type": "code",
   "execution_count": 225,
   "id": "8ead0986",
   "metadata": {},
   "outputs": [
    {
     "name": "stdout",
     "output_type": "stream",
     "text": [
      "Sorted DataFrame by 'Total Profit (Millions $)':\n",
      "   Client ID  Total Units Purchased Total Shipping Cost (Millions $)  \\\n",
      "4      24741                 239862                           $5.13M   \n",
      "3      38378                  73667                           $3.43M   \n",
      "1      66037                  43018                           $1.40M   \n",
      "2      46820                  75768                           $1.60M   \n",
      "0      33615                  64313                           $1.83M   \n",
      "\n",
      "  Total Revenue (Millions $) Total Profit (Millions $)  \n",
      "4                    $82.27M                   $36.58M  \n",
      "3                    $12.91M                    $3.27M  \n",
      "1                    $10.26M                    $3.26M  \n",
      "2                     $9.74M                    $2.74M  \n",
      "0                     $8.38M                    $2.20M  \n"
     ]
    }
   ],
   "source": [
    "# Sort the updated data by \"Total Profit (millions)\" form highest to lowest and assign the sort to a new DatFrame.\n",
    "sorted_df = summary_df.sort_values(by='Total Profit (Millions $)', ascending=False)\n",
    "\n",
    "print(\"Sorted DataFrame by 'Total Profit (Millions $)':\")\n",
    "print(sorted_df)"
   ]
  },
  {
   "cell_type": "code",
   "execution_count": null,
   "id": "87e0e7f8-b60e-4e50-ab07-c36b6deed513",
   "metadata": {},
   "outputs": [],
   "source": []
  }
 ],
 "metadata": {
  "kernelspec": {
   "display_name": "Python 3 (ipykernel)",
   "language": "python",
   "name": "python3"
  },
  "language_info": {
   "codemirror_mode": {
    "name": "ipython",
    "version": 3
   },
   "file_extension": ".py",
   "mimetype": "text/x-python",
   "name": "python",
   "nbconvert_exporter": "python",
   "pygments_lexer": "ipython3",
   "version": "3.12.4"
  }
 },
 "nbformat": 4,
 "nbformat_minor": 5
}
